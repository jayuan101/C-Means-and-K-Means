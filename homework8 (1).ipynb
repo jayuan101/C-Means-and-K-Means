{
 "cells": [
  {
   "cell_type": "code",
   "execution_count": 1,
   "metadata": {
    "_cell_guid": "b1076dfc-b9ad-4769-8c92-a6c4dae69d19",
    "_uuid": "8f2839f25d086af736a60e9eeb907d3b93b6e0e5",
    "execution": {
     "iopub.execute_input": "2022-05-06T03:09:26.102305Z",
     "iopub.status.busy": "2022-05-06T03:09:26.101590Z",
     "iopub.status.idle": "2022-05-06T03:09:36.691237Z",
     "shell.execute_reply": "2022-05-06T03:09:36.690436Z",
     "shell.execute_reply.started": "2022-05-06T03:09:26.102261Z"
    }
   },
   "outputs": [
    {
     "name": "stdout",
     "output_type": "stream",
     "text": [
      "Requirement already satisfied: fuzzy-c-means in c:\\anaconda\\lib\\site-packages (1.6.3)\n",
      "Requirement already satisfied: numpy<2.0.0,>=1.21.1 in c:\\anaconda\\lib\\site-packages (from fuzzy-c-means) (1.21.5)\n",
      "Requirement already satisfied: typer<0.4.0,>=0.3.2 in c:\\anaconda\\lib\\site-packages (from fuzzy-c-means) (0.3.2)\n",
      "Requirement already satisfied: pydantic<2.0.0,>=1.8.2 in c:\\anaconda\\lib\\site-packages (from fuzzy-c-means) (1.9.0)\n",
      "Requirement already satisfied: tabulate<0.9.0,>=0.8.9 in c:\\anaconda\\lib\\site-packages (from fuzzy-c-means) (0.8.9)\n",
      "Requirement already satisfied: typing-extensions>=3.7.4.3 in c:\\anaconda\\lib\\site-packages (from pydantic<2.0.0,>=1.8.2->fuzzy-c-means) (4.1.1)\n",
      "Requirement already satisfied: click<7.2.0,>=7.1.1 in c:\\anaconda\\lib\\site-packages (from typer<0.4.0,>=0.3.2->fuzzy-c-means) (7.1.2)\n"
     ]
    }
   ],
   "source": [
    "!pip install fuzzy-c-means"
   ]
  },
  {
   "cell_type": "code",
   "execution_count": 2,
   "metadata": {
    "execution": {
     "iopub.execute_input": "2022-05-06T03:09:36.693479Z",
     "iopub.status.busy": "2022-05-06T03:09:36.693210Z",
     "iopub.status.idle": "2022-05-06T03:09:36.699530Z",
     "shell.execute_reply": "2022-05-06T03:09:36.698914Z",
     "shell.execute_reply.started": "2022-05-06T03:09:36.693446Z"
    }
   },
   "outputs": [],
   "source": [
    "# Ignoring the warning\n",
    "import warnings\n",
    "warnings.filterwarnings(\"ignore\")"
   ]
  },
  {
   "cell_type": "code",
   "execution_count": 3,
   "metadata": {
    "execution": {
     "iopub.execute_input": "2022-05-06T03:09:36.701605Z",
     "iopub.status.busy": "2022-05-06T03:09:36.701249Z",
     "iopub.status.idle": "2022-05-06T03:09:36.714987Z",
     "shell.execute_reply": "2022-05-06T03:09:36.713994Z",
     "shell.execute_reply.started": "2022-05-06T03:09:36.701558Z"
    }
   },
   "outputs": [],
   "source": [
    "# Importing libraries\n",
    "import numpy as np\n",
    "import pandas as pd\n",
    "import seaborn as sns\n",
    "import matplotlib.pyplot as plt"
   ]
  },
  {
   "cell_type": "code",
   "execution_count": 4,
   "metadata": {
    "execution": {
     "iopub.execute_input": "2022-05-06T03:09:36.718286Z",
     "iopub.status.busy": "2022-05-06T03:09:36.717874Z",
     "iopub.status.idle": "2022-05-06T03:09:36.738847Z",
     "shell.execute_reply": "2022-05-06T03:09:36.737951Z",
     "shell.execute_reply.started": "2022-05-06T03:09:36.718238Z"
    }
   },
   "outputs": [],
   "source": [
    "# Reading dataset\n",
    "df = pd.read_csv('car.csv', names= ['buying', 'maint', 'door', 'persons', 'lug_boot','safety'])"
   ]
  },
  {
   "cell_type": "code",
   "execution_count": 5,
   "metadata": {
    "execution": {
     "iopub.execute_input": "2022-05-06T03:09:36.743575Z",
     "iopub.status.busy": "2022-05-06T03:09:36.743108Z",
     "iopub.status.idle": "2022-05-06T03:09:36.756746Z",
     "shell.execute_reply": "2022-05-06T03:09:36.756024Z",
     "shell.execute_reply.started": "2022-05-06T03:09:36.743521Z"
    }
   },
   "outputs": [
    {
     "data": {
      "text/plain": [
       "<bound method NDFrame.head of           buying    maint     door  persons lug_boot   safety\n",
       "Column1  Column2  Column3  Column4  Column5  Column6  Column7\n",
       "vhigh      vhigh        2        2    small      low    unacc\n",
       "vhigh      vhigh        2        2    small      med    unacc\n",
       "vhigh      vhigh        2        2    small     high    unacc\n",
       "vhigh      vhigh        2        2      med      low    unacc\n",
       "...          ...      ...      ...      ...      ...      ...\n",
       "low          low    5more     more      med      med     good\n",
       "low          low    5more     more      med     high    vgood\n",
       "low          low    5more     more      big      low    unacc\n",
       "low          low    5more     more      big      med     good\n",
       "low          low    5more     more      big     high    vgood\n",
       "\n",
       "[1729 rows x 6 columns]>"
      ]
     },
     "execution_count": 5,
     "metadata": {},
     "output_type": "execute_result"
    }
   ],
   "source": [
    "df.head"
   ]
  },
  {
   "cell_type": "code",
   "execution_count": null,
   "metadata": {},
   "outputs": [],
   "source": []
  },
  {
   "cell_type": "code",
   "execution_count": 6,
   "metadata": {
    "execution": {
     "iopub.execute_input": "2022-05-06T03:09:36.758332Z",
     "iopub.status.busy": "2022-05-06T03:09:36.757819Z",
     "iopub.status.idle": "2022-05-06T03:09:36.772045Z",
     "shell.execute_reply": "2022-05-06T03:09:36.771091Z",
     "shell.execute_reply.started": "2022-05-06T03:09:36.758290Z"
    }
   },
   "outputs": [
    {
     "data": {
      "text/plain": [
       "(1729, 6)"
      ]
     },
     "execution_count": 6,
     "metadata": {},
     "output_type": "execute_result"
    }
   ],
   "source": [
    "# Checking data shape\n",
    "df.shape"
   ]
  },
  {
   "cell_type": "code",
   "execution_count": 7,
   "metadata": {
    "execution": {
     "iopub.execute_input": "2022-05-06T03:09:36.774197Z",
     "iopub.status.busy": "2022-05-06T03:09:36.773657Z",
     "iopub.status.idle": "2022-05-06T03:09:36.789626Z",
     "shell.execute_reply": "2022-05-06T03:09:36.788710Z",
     "shell.execute_reply.started": "2022-05-06T03:09:36.774151Z"
    }
   },
   "outputs": [
    {
     "data": {
      "text/plain": [
       "Series([], dtype: float64)"
      ]
     },
     "execution_count": 7,
     "metadata": {},
     "output_type": "execute_result"
    }
   ],
   "source": [
    "df.skew()"
   ]
  },
  {
   "cell_type": "code",
   "execution_count": 10,
   "metadata": {
    "execution": {
     "iopub.execute_input": "2022-05-06T03:11:35.021585Z",
     "iopub.status.busy": "2022-05-06T03:11:35.020616Z",
     "iopub.status.idle": "2022-05-06T03:11:35.213417Z",
     "shell.execute_reply": "2022-05-06T03:11:35.211960Z",
     "shell.execute_reply.started": "2022-05-06T03:11:35.021543Z"
    }
   },
   "outputs": [
    {
     "ename": "ValueError",
     "evalue": "could not convert string to float: 'Column5'",
     "output_type": "error",
     "traceback": [
      "\u001b[1;31m---------------------------------------------------------------------------\u001b[0m",
      "\u001b[1;31mValueError\u001b[0m                                Traceback (most recent call last)",
      "Input \u001b[1;32mIn [10]\u001b[0m, in \u001b[0;36m<cell line: 1>\u001b[1;34m()\u001b[0m\n\u001b[1;32m----> 1\u001b[0m \u001b[43msns\u001b[49m\u001b[38;5;241;43m.\u001b[39;49m\u001b[43mdistplot\u001b[49m\u001b[43m(\u001b[49m\u001b[43mdf\u001b[49m\u001b[43m[\u001b[49m\u001b[38;5;124;43m'\u001b[39;49m\u001b[38;5;124;43mpersons\u001b[39;49m\u001b[38;5;124;43m'\u001b[39;49m\u001b[43m]\u001b[49m\u001b[43m)\u001b[49m\n",
      "File \u001b[1;32mC:\\anaconda\\lib\\site-packages\\seaborn\\distributions.py:2636\u001b[0m, in \u001b[0;36mdistplot\u001b[1;34m(a, bins, hist, kde, rug, fit, hist_kws, kde_kws, rug_kws, fit_kws, color, vertical, norm_hist, axlabel, label, ax, x)\u001b[0m\n\u001b[0;32m   2633\u001b[0m     a \u001b[38;5;241m=\u001b[39m x\n\u001b[0;32m   2635\u001b[0m \u001b[38;5;66;03m# Make a a 1-d float array\u001b[39;00m\n\u001b[1;32m-> 2636\u001b[0m a \u001b[38;5;241m=\u001b[39m \u001b[43mnp\u001b[49m\u001b[38;5;241;43m.\u001b[39;49m\u001b[43masarray\u001b[49m\u001b[43m(\u001b[49m\u001b[43ma\u001b[49m\u001b[43m,\u001b[49m\u001b[43m \u001b[49m\u001b[38;5;28;43mfloat\u001b[39;49m\u001b[43m)\u001b[49m\n\u001b[0;32m   2637\u001b[0m \u001b[38;5;28;01mif\u001b[39;00m a\u001b[38;5;241m.\u001b[39mndim \u001b[38;5;241m>\u001b[39m \u001b[38;5;241m1\u001b[39m:\n\u001b[0;32m   2638\u001b[0m     a \u001b[38;5;241m=\u001b[39m a\u001b[38;5;241m.\u001b[39msqueeze()\n",
      "File \u001b[1;32mC:\\anaconda\\lib\\site-packages\\pandas\\core\\series.py:872\u001b[0m, in \u001b[0;36mSeries.__array__\u001b[1;34m(self, dtype)\u001b[0m\n\u001b[0;32m    825\u001b[0m \u001b[38;5;28;01mdef\u001b[39;00m \u001b[38;5;21m__array__\u001b[39m(\u001b[38;5;28mself\u001b[39m, dtype: npt\u001b[38;5;241m.\u001b[39mDTypeLike \u001b[38;5;241m|\u001b[39m \u001b[38;5;28;01mNone\u001b[39;00m \u001b[38;5;241m=\u001b[39m \u001b[38;5;28;01mNone\u001b[39;00m) \u001b[38;5;241m-\u001b[39m\u001b[38;5;241m>\u001b[39m np\u001b[38;5;241m.\u001b[39mndarray:\n\u001b[0;32m    826\u001b[0m     \u001b[38;5;124;03m\"\"\"\u001b[39;00m\n\u001b[0;32m    827\u001b[0m \u001b[38;5;124;03m    Return the values as a NumPy array.\u001b[39;00m\n\u001b[0;32m    828\u001b[0m \n\u001b[1;32m   (...)\u001b[0m\n\u001b[0;32m    870\u001b[0m \u001b[38;5;124;03m          dtype='datetime64[ns]')\u001b[39;00m\n\u001b[0;32m    871\u001b[0m \u001b[38;5;124;03m    \"\"\"\u001b[39;00m\n\u001b[1;32m--> 872\u001b[0m     \u001b[38;5;28;01mreturn\u001b[39;00m \u001b[43mnp\u001b[49m\u001b[38;5;241;43m.\u001b[39;49m\u001b[43masarray\u001b[49m\u001b[43m(\u001b[49m\u001b[38;5;28;43mself\u001b[39;49m\u001b[38;5;241;43m.\u001b[39;49m\u001b[43m_values\u001b[49m\u001b[43m,\u001b[49m\u001b[43m \u001b[49m\u001b[43mdtype\u001b[49m\u001b[43m)\u001b[49m\n",
      "\u001b[1;31mValueError\u001b[0m: could not convert string to float: 'Column5'"
     ]
    },
    {
     "data": {
      "image/png": "[encoded data removed]",
      "text/plain": [
       "<Figure size 432x288 with 1 Axes>"
      ]
     },
     "metadata": {
      "needs_background": "light"
     },
     "output_type": "display_data"
    }
   ],
   "source": [
    "sns.distplot(df['persons'])"
   ]
  },
  {
   "cell_type": "code",
   "execution_count": 11,
   "metadata": {
    "execution": {
     "iopub.execute_input": "2022-05-06T03:10:47.009267Z",
     "iopub.status.busy": "2022-05-06T03:10:47.008963Z",
     "iopub.status.idle": "2022-05-06T03:10:47.214978Z",
     "shell.execute_reply": "2022-05-06T03:10:47.213769Z",
     "shell.execute_reply.started": "2022-05-06T03:10:47.009237Z"
    }
   },
   "outputs": [
    {
     "ename": "ValueError",
     "evalue": "could not convert string to float: 'Column4'",
     "output_type": "error",
     "traceback": [
      "\u001b[1;31m---------------------------------------------------------------------------\u001b[0m",
      "\u001b[1;31mValueError\u001b[0m                                Traceback (most recent call last)",
      "Input \u001b[1;32mIn [11]\u001b[0m, in \u001b[0;36m<cell line: 1>\u001b[1;34m()\u001b[0m\n\u001b[1;32m----> 1\u001b[0m \u001b[43msns\u001b[49m\u001b[38;5;241;43m.\u001b[39;49m\u001b[43mdistplot\u001b[49m\u001b[43m(\u001b[49m\u001b[43mdf\u001b[49m\u001b[43m[\u001b[49m\u001b[38;5;124;43m'\u001b[39;49m\u001b[38;5;124;43mdoor\u001b[39;49m\u001b[38;5;124;43m'\u001b[39;49m\u001b[43m]\u001b[49m\u001b[43m)\u001b[49m\n",
      "File \u001b[1;32mC:\\anaconda\\lib\\site-packages\\seaborn\\distributions.py:2636\u001b[0m, in \u001b[0;36mdistplot\u001b[1;34m(a, bins, hist, kde, rug, fit, hist_kws, kde_kws, rug_kws, fit_kws, color, vertical, norm_hist, axlabel, label, ax, x)\u001b[0m\n\u001b[0;32m   2633\u001b[0m     a \u001b[38;5;241m=\u001b[39m x\n\u001b[0;32m   2635\u001b[0m \u001b[38;5;66;03m# Make a a 1-d float array\u001b[39;00m\n\u001b[1;32m-> 2636\u001b[0m a \u001b[38;5;241m=\u001b[39m \u001b[43mnp\u001b[49m\u001b[38;5;241;43m.\u001b[39;49m\u001b[43masarray\u001b[49m\u001b[43m(\u001b[49m\u001b[43ma\u001b[49m\u001b[43m,\u001b[49m\u001b[43m \u001b[49m\u001b[38;5;28;43mfloat\u001b[39;49m\u001b[43m)\u001b[49m\n\u001b[0;32m   2637\u001b[0m \u001b[38;5;28;01mif\u001b[39;00m a\u001b[38;5;241m.\u001b[39mndim \u001b[38;5;241m>\u001b[39m \u001b[38;5;241m1\u001b[39m:\n\u001b[0;32m   2638\u001b[0m     a \u001b[38;5;241m=\u001b[39m a\u001b[38;5;241m.\u001b[39msqueeze()\n",
      "File \u001b[1;32mC:\\anaconda\\lib\\site-packages\\pandas\\core\\series.py:872\u001b[0m, in \u001b[0;36mSeries.__array__\u001b[1;34m(self, dtype)\u001b[0m\n\u001b[0;32m    825\u001b[0m \u001b[38;5;28;01mdef\u001b[39;00m \u001b[38;5;21m__array__\u001b[39m(\u001b[38;5;28mself\u001b[39m, dtype: npt\u001b[38;5;241m.\u001b[39mDTypeLike \u001b[38;5;241m|\u001b[39m \u001b[38;5;28;01mNone\u001b[39;00m \u001b[38;5;241m=\u001b[39m \u001b[38;5;28;01mNone\u001b[39;00m) \u001b[38;5;241m-\u001b[39m\u001b[38;5;241m>\u001b[39m np\u001b[38;5;241m.\u001b[39mndarray:\n\u001b[0;32m    826\u001b[0m     \u001b[38;5;124;03m\"\"\"\u001b[39;00m\n\u001b[0;32m    827\u001b[0m \u001b[38;5;124;03m    Return the values as a NumPy array.\u001b[39;00m\n\u001b[0;32m    828\u001b[0m \n\u001b[1;32m   (...)\u001b[0m\n\u001b[0;32m    870\u001b[0m \u001b[38;5;124;03m          dtype='datetime64[ns]')\u001b[39;00m\n\u001b[0;32m    871\u001b[0m \u001b[38;5;124;03m    \"\"\"\u001b[39;00m\n\u001b[1;32m--> 872\u001b[0m     \u001b[38;5;28;01mreturn\u001b[39;00m \u001b[43mnp\u001b[49m\u001b[38;5;241;43m.\u001b[39;49m\u001b[43masarray\u001b[49m\u001b[43m(\u001b[49m\u001b[38;5;28;43mself\u001b[39;49m\u001b[38;5;241;43m.\u001b[39;49m\u001b[43m_values\u001b[49m\u001b[43m,\u001b[49m\u001b[43m \u001b[49m\u001b[43mdtype\u001b[49m\u001b[43m)\u001b[49m\n",
      "\u001b[1;31mValueError\u001b[0m: could not convert string to float: 'Column4'"
     ]
    },
    {
     "data": {
      "image/png": "[encoded data removed]",
      "text/plain": [
       "<Figure size 432x288 with 1 Axes>"
      ]
     },
     "metadata": {
      "needs_background": "light"
     },
     "output_type": "display_data"
    }
   ],
   "source": [
    "sns.distplot(df['door'])"
   ]
  },
  {
   "cell_type": "code",
   "execution_count": 12,
   "metadata": {
    "execution": {
     "iopub.execute_input": "2022-05-06T03:15:59.029852Z",
     "iopub.status.busy": "2022-05-06T03:15:59.029536Z",
     "iopub.status.idle": "2022-05-06T03:15:59.037200Z",
     "shell.execute_reply": "2022-05-06T03:15:59.036311Z",
     "shell.execute_reply.started": "2022-05-06T03:15:59.029821Z"
    }
   },
   "outputs": [],
   "source": [
    "y = df['maint']\n",
    "df.drop(columns=['maint'], inplace = True)"
   ]
  },
  {
   "cell_type": "code",
   "execution_count": 13,
   "metadata": {
    "execution": {
     "iopub.execute_input": "2022-05-06T03:16:01.374041Z",
     "iopub.status.busy": "2022-05-06T03:16:01.373747Z",
     "iopub.status.idle": "2022-05-06T03:16:01.389066Z",
     "shell.execute_reply": "2022-05-06T03:16:01.388228Z",
     "shell.execute_reply.started": "2022-05-06T03:16:01.374009Z"
    }
   },
   "outputs": [
    {
     "data": {
      "text/html": [
       "<div>\n",
       "<style scoped>\n",
       "    .dataframe tbody tr th:only-of-type {\n",
       "        vertical-align: middle;\n",
       "    }\n",
       "\n",
       "    .dataframe tbody tr th {\n",
       "        vertical-align: top;\n",
       "    }\n",
       "\n",
       "    .dataframe thead th {\n",
       "        text-align: right;\n",
       "    }\n",
       "</style>\n",
       "<table border=\"1\" class=\"dataframe\">\n",
       "  <thead>\n",
       "    <tr style=\"text-align: right;\">\n",
       "      <th></th>\n",
       "      <th>buying</th>\n",
       "      <th>door</th>\n",
       "      <th>persons</th>\n",
       "      <th>lug_boot</th>\n",
       "      <th>safety</th>\n",
       "    </tr>\n",
       "  </thead>\n",
       "  <tbody>\n",
       "    <tr>\n",
       "      <th>Column1</th>\n",
       "      <td>Column2</td>\n",
       "      <td>Column4</td>\n",
       "      <td>Column5</td>\n",
       "      <td>Column6</td>\n",
       "      <td>Column7</td>\n",
       "    </tr>\n",
       "    <tr>\n",
       "      <th>vhigh</th>\n",
       "      <td>vhigh</td>\n",
       "      <td>2</td>\n",
       "      <td>small</td>\n",
       "      <td>low</td>\n",
       "      <td>unacc</td>\n",
       "    </tr>\n",
       "    <tr>\n",
       "      <th>vhigh</th>\n",
       "      <td>vhigh</td>\n",
       "      <td>2</td>\n",
       "      <td>small</td>\n",
       "      <td>med</td>\n",
       "      <td>unacc</td>\n",
       "    </tr>\n",
       "    <tr>\n",
       "      <th>vhigh</th>\n",
       "      <td>vhigh</td>\n",
       "      <td>2</td>\n",
       "      <td>small</td>\n",
       "      <td>high</td>\n",
       "      <td>unacc</td>\n",
       "    </tr>\n",
       "    <tr>\n",
       "      <th>vhigh</th>\n",
       "      <td>vhigh</td>\n",
       "      <td>2</td>\n",
       "      <td>med</td>\n",
       "      <td>low</td>\n",
       "      <td>unacc</td>\n",
       "    </tr>\n",
       "    <tr>\n",
       "      <th>...</th>\n",
       "      <td>...</td>\n",
       "      <td>...</td>\n",
       "      <td>...</td>\n",
       "      <td>...</td>\n",
       "      <td>...</td>\n",
       "    </tr>\n",
       "    <tr>\n",
       "      <th>low</th>\n",
       "      <td>low</td>\n",
       "      <td>more</td>\n",
       "      <td>med</td>\n",
       "      <td>med</td>\n",
       "      <td>good</td>\n",
       "    </tr>\n",
       "    <tr>\n",
       "      <th>low</th>\n",
       "      <td>low</td>\n",
       "      <td>more</td>\n",
       "      <td>med</td>\n",
       "      <td>high</td>\n",
       "      <td>vgood</td>\n",
       "    </tr>\n",
       "    <tr>\n",
       "      <th>low</th>\n",
       "      <td>low</td>\n",
       "      <td>more</td>\n",
       "      <td>big</td>\n",
       "      <td>low</td>\n",
       "      <td>unacc</td>\n",
       "    </tr>\n",
       "    <tr>\n",
       "      <th>low</th>\n",
       "      <td>low</td>\n",
       "      <td>more</td>\n",
       "      <td>big</td>\n",
       "      <td>med</td>\n",
       "      <td>good</td>\n",
       "    </tr>\n",
       "    <tr>\n",
       "      <th>low</th>\n",
       "      <td>low</td>\n",
       "      <td>more</td>\n",
       "      <td>big</td>\n",
       "      <td>high</td>\n",
       "      <td>vgood</td>\n",
       "    </tr>\n",
       "  </tbody>\n",
       "</table>\n",
       "<p>1729 rows × 5 columns</p>\n",
       "</div>"
      ],
      "text/plain": [
       "          buying     door  persons lug_boot   safety\n",
       "Column1  Column2  Column4  Column5  Column6  Column7\n",
       "vhigh      vhigh        2    small      low    unacc\n",
       "vhigh      vhigh        2    small      med    unacc\n",
       "vhigh      vhigh        2    small     high    unacc\n",
       "vhigh      vhigh        2      med      low    unacc\n",
       "...          ...      ...      ...      ...      ...\n",
       "low          low     more      med      med     good\n",
       "low          low     more      med     high    vgood\n",
       "low          low     more      big      low    unacc\n",
       "low          low     more      big      med     good\n",
       "low          low     more      big     high    vgood\n",
       "\n",
       "[1729 rows x 5 columns]"
      ]
     },
     "execution_count": 13,
     "metadata": {},
     "output_type": "execute_result"
    }
   ],
   "source": [
    "df"
   ]
  },
  {
   "cell_type": "code",
   "execution_count": 15,
   "metadata": {
    "execution": {
     "iopub.execute_input": "2022-05-06T03:14:04.878378Z",
     "iopub.status.busy": "2022-05-06T03:14:04.877409Z",
     "iopub.status.idle": "2022-05-06T03:14:17.502711Z",
     "shell.execute_reply": "2022-05-06T03:14:17.501369Z",
     "shell.execute_reply.started": "2022-05-06T03:14:04.878329Z"
    }
   },
   "outputs": [
    {
     "name": "stdout",
     "output_type": "stream",
     "text": [
      "Collecting normalizer\n",
      "  Downloading normalizer-0.2.1.tar.gz (3.3 kB)\n",
      "  Preparing metadata (setup.py): started\n",
      "  Preparing metadata (setup.py): finished with status 'done'\n",
      "Requirement already satisfied: setuptools in c:\\anaconda\\lib\\site-packages (from normalizer) (61.2.0)\n",
      "Building wheels for collected packages: normalizer\n",
      "  Building wheel for normalizer (setup.py): started\n",
      "  Building wheel for normalizer (setup.py): finished with status 'done'\n",
      "  Created wheel for normalizer: filename=normalizer-0.2.1-py3-none-any.whl size=3755 sha256=3358b203c68a1fc0ee7f1e965bf345709b3563918b233c707abc53c15fcdad5e\n",
      "  Stored in directory: c:\\users\\young\\appdata\\local\\pip\\cache\\wheels\\cb\\50\\08\\315e8c227c07ff1527d025f89db6f3ef81fefceebddc0b95d7\n",
      "Successfully built normalizer\n",
      "Installing collected packages: normalizer\n",
      "Successfully installed normalizer-0.2.1\n"
     ]
    }
   ],
   "source": [
    "!pip install normalizer"
   ]
  },
  {
   "cell_type": "code",
   "execution_count": 14,
   "metadata": {
    "execution": {
     "iopub.execute_input": "2022-05-06T03:14:28.176762Z",
     "iopub.status.busy": "2022-05-06T03:14:28.175525Z",
     "iopub.status.idle": "2022-05-06T03:14:38.800902Z",
     "shell.execute_reply": "2022-05-06T03:14:38.799977Z",
     "shell.execute_reply.started": "2022-05-06T03:14:28.176696Z"
    }
   },
   "outputs": [
    {
     "name": "stdout",
     "output_type": "stream",
     "text": [
      "Requirement already satisfied: charset-normalizer in c:\\anaconda\\lib\\site-packages (2.0.4)\n"
     ]
    }
   ],
   "source": [
    "!pip install charset-normalizer"
   ]
  },
  {
   "cell_type": "code",
   "execution_count": null,
   "metadata": {
    "execution": {
     "iopub.execute_input": "2022-05-06T03:16:14.060141Z",
     "iopub.status.busy": "2022-05-06T03:16:14.059276Z",
     "iopub.status.idle": "2022-05-06T03:16:14.087420Z",
     "shell.execute_reply": "2022-05-06T03:16:14.086275Z",
     "shell.execute_reply.started": "2022-05-06T03:16:14.060104Z"
    }
   },
   "outputs": [],
   "source": [
    "# # Normalizing the features First_exam and Second_exam\n",
    "\n",
    "# from sklearn.preprocessing import Normalizer\n",
    "\n",
    "# df = Normalizer().fit_transform(df)"
   ]
  },
  {
   "cell_type": "code",
   "execution_count": 16,
   "metadata": {
    "execution": {
     "iopub.execute_input": "2022-05-06T03:22:17.715049Z",
     "iopub.status.busy": "2022-05-06T03:22:17.714712Z",
     "iopub.status.idle": "2022-05-06T03:22:17.938898Z",
     "shell.execute_reply": "2022-05-06T03:22:17.937788Z",
     "shell.execute_reply.started": "2022-05-06T03:22:17.715015Z"
    }
   },
   "outputs": [
    {
     "ename": "KeyError",
     "evalue": "\"None of [Int64Index([ 330,  331,  332,  333,  334,  335,  336,  337,  338,  339,\\n            ...\\n            1719, 1720, 1721, 1722, 1723, 1724, 1725, 1726, 1727, 1728],\\n           dtype='int64', length=1383)] are in the [columns]\"",
     "output_type": "error",
     "traceback": [
      "\u001b[1;31m---------------------------------------------------------------------------\u001b[0m",
      "\u001b[1;31mKeyError\u001b[0m                                  Traceback (most recent call last)",
      "Input \u001b[1;32mIn [16]\u001b[0m, in \u001b[0;36m<cell line: 18>\u001b[1;34m()\u001b[0m\n\u001b[0;32m     16\u001b[0m actual_classes \u001b[38;5;241m=\u001b[39m \u001b[38;5;28mlist\u001b[39m()\n\u001b[0;32m     18\u001b[0m \u001b[38;5;28;01mfor\u001b[39;00m k, (train_index, test_index) \u001b[38;5;129;01min\u001b[39;00m \u001b[38;5;28menumerate\u001b[39m(skf\u001b[38;5;241m.\u001b[39msplit(df, y)):\n\u001b[1;32m---> 19\u001b[0m     X_train, X_test \u001b[38;5;241m=\u001b[39m \u001b[43mdf\u001b[49m\u001b[43m[\u001b[49m\u001b[43mtrain_index\u001b[49m\u001b[43m]\u001b[49m, df[test_index]\n\u001b[0;32m     20\u001b[0m     y_train, y_test \u001b[38;5;241m=\u001b[39m y[train_index], y[test_index]\n\u001b[0;32m     22\u001b[0m     \u001b[38;5;66;03m# Training K means\u001b[39;00m\n",
      "File \u001b[1;32mC:\\anaconda\\lib\\site-packages\\pandas\\core\\frame.py:3511\u001b[0m, in \u001b[0;36mDataFrame.__getitem__\u001b[1;34m(self, key)\u001b[0m\n\u001b[0;32m   3509\u001b[0m     \u001b[38;5;28;01mif\u001b[39;00m is_iterator(key):\n\u001b[0;32m   3510\u001b[0m         key \u001b[38;5;241m=\u001b[39m \u001b[38;5;28mlist\u001b[39m(key)\n\u001b[1;32m-> 3511\u001b[0m     indexer \u001b[38;5;241m=\u001b[39m \u001b[38;5;28;43mself\u001b[39;49m\u001b[38;5;241;43m.\u001b[39;49m\u001b[43mcolumns\u001b[49m\u001b[38;5;241;43m.\u001b[39;49m\u001b[43m_get_indexer_strict\u001b[49m\u001b[43m(\u001b[49m\u001b[43mkey\u001b[49m\u001b[43m,\u001b[49m\u001b[43m \u001b[49m\u001b[38;5;124;43m\"\u001b[39;49m\u001b[38;5;124;43mcolumns\u001b[39;49m\u001b[38;5;124;43m\"\u001b[39;49m\u001b[43m)\u001b[49m[\u001b[38;5;241m1\u001b[39m]\n\u001b[0;32m   3513\u001b[0m \u001b[38;5;66;03m# take() does not accept boolean indexers\u001b[39;00m\n\u001b[0;32m   3514\u001b[0m \u001b[38;5;28;01mif\u001b[39;00m \u001b[38;5;28mgetattr\u001b[39m(indexer, \u001b[38;5;124m\"\u001b[39m\u001b[38;5;124mdtype\u001b[39m\u001b[38;5;124m\"\u001b[39m, \u001b[38;5;28;01mNone\u001b[39;00m) \u001b[38;5;241m==\u001b[39m \u001b[38;5;28mbool\u001b[39m:\n",
      "File \u001b[1;32mC:\\anaconda\\lib\\site-packages\\pandas\\core\\indexes\\base.py:5782\u001b[0m, in \u001b[0;36mIndex._get_indexer_strict\u001b[1;34m(self, key, axis_name)\u001b[0m\n\u001b[0;32m   5779\u001b[0m \u001b[38;5;28;01melse\u001b[39;00m:\n\u001b[0;32m   5780\u001b[0m     keyarr, indexer, new_indexer \u001b[38;5;241m=\u001b[39m \u001b[38;5;28mself\u001b[39m\u001b[38;5;241m.\u001b[39m_reindex_non_unique(keyarr)\n\u001b[1;32m-> 5782\u001b[0m \u001b[38;5;28;43mself\u001b[39;49m\u001b[38;5;241;43m.\u001b[39;49m\u001b[43m_raise_if_missing\u001b[49m\u001b[43m(\u001b[49m\u001b[43mkeyarr\u001b[49m\u001b[43m,\u001b[49m\u001b[43m \u001b[49m\u001b[43mindexer\u001b[49m\u001b[43m,\u001b[49m\u001b[43m \u001b[49m\u001b[43maxis_name\u001b[49m\u001b[43m)\u001b[49m\n\u001b[0;32m   5784\u001b[0m keyarr \u001b[38;5;241m=\u001b[39m \u001b[38;5;28mself\u001b[39m\u001b[38;5;241m.\u001b[39mtake(indexer)\n\u001b[0;32m   5785\u001b[0m \u001b[38;5;28;01mif\u001b[39;00m \u001b[38;5;28misinstance\u001b[39m(key, Index):\n\u001b[0;32m   5786\u001b[0m     \u001b[38;5;66;03m# GH 42790 - Preserve name from an Index\u001b[39;00m\n",
      "File \u001b[1;32mC:\\anaconda\\lib\\site-packages\\pandas\\core\\indexes\\base.py:5842\u001b[0m, in \u001b[0;36mIndex._raise_if_missing\u001b[1;34m(self, key, indexer, axis_name)\u001b[0m\n\u001b[0;32m   5840\u001b[0m     \u001b[38;5;28;01mif\u001b[39;00m use_interval_msg:\n\u001b[0;32m   5841\u001b[0m         key \u001b[38;5;241m=\u001b[39m \u001b[38;5;28mlist\u001b[39m(key)\n\u001b[1;32m-> 5842\u001b[0m     \u001b[38;5;28;01mraise\u001b[39;00m \u001b[38;5;167;01mKeyError\u001b[39;00m(\u001b[38;5;124mf\u001b[39m\u001b[38;5;124m\"\u001b[39m\u001b[38;5;124mNone of [\u001b[39m\u001b[38;5;132;01m{\u001b[39;00mkey\u001b[38;5;132;01m}\u001b[39;00m\u001b[38;5;124m] are in the [\u001b[39m\u001b[38;5;132;01m{\u001b[39;00maxis_name\u001b[38;5;132;01m}\u001b[39;00m\u001b[38;5;124m]\u001b[39m\u001b[38;5;124m\"\u001b[39m)\n\u001b[0;32m   5844\u001b[0m not_found \u001b[38;5;241m=\u001b[39m \u001b[38;5;28mlist\u001b[39m(ensure_index(key)[missing_mask\u001b[38;5;241m.\u001b[39mnonzero()[\u001b[38;5;241m0\u001b[39m]]\u001b[38;5;241m.\u001b[39munique())\n\u001b[0;32m   5845\u001b[0m \u001b[38;5;28;01mraise\u001b[39;00m \u001b[38;5;167;01mKeyError\u001b[39;00m(\u001b[38;5;124mf\u001b[39m\u001b[38;5;124m\"\u001b[39m\u001b[38;5;132;01m{\u001b[39;00mnot_found\u001b[38;5;132;01m}\u001b[39;00m\u001b[38;5;124m not in index\u001b[39m\u001b[38;5;124m\"\u001b[39m)\n",
      "\u001b[1;31mKeyError\u001b[0m: \"None of [Int64Index([ 330,  331,  332,  333,  334,  335,  336,  337,  338,  339,\\n            ...\\n            1719, 1720, 1721, 1722, 1723, 1724, 1725, 1726, 1727, 1728],\\n           dtype='int64', length=1383)] are in the [columns]\""
     ]
    },
    {
     "data": {
      "image/png": "[encoded data removed]",
      "text/plain": [
       "<Figure size 432x288 with 1 Axes>"
      ]
     },
     "metadata": {
      "needs_background": "light"
     },
     "output_type": "display_data"
    }
   ],
   "source": [
    "from sklearn.model_selection import StratifiedKFold\n",
    "from sklearn.cluster import KMeans\n",
    "from sklearn.metrics import accuracy_score, RocCurveDisplay, classification_report, auc, f1_score, confusion_matrix,roc_curve, ConfusionMatrixDisplay\n",
    "\n",
    "# Stritified KFold implementation\n",
    "skf = StratifiedKFold(n_splits=5)\n",
    "\n",
    "tprs = []\n",
    "aucs = []\n",
    "mean_fpr = np.linspace(0, 1, 100)\n",
    "\n",
    "fig, ax = plt.subplots()\n",
    "\n",
    "accuracies = list()\n",
    "predicted_classes = list()\n",
    "actual_classes = list()\n",
    "\n",
    "for k, (train_index, test_index) in enumerate(skf.split(df, y)):\n",
    "    X_train, X_test = df[train_index], df[test_index]\n",
    "    y_train, y_test = y[train_index], y[test_index]\n",
    "\n",
    "    # Training K means\n",
    "    kmeans = KMeans(n_clusters=2).fit(X_train)\n",
    "\n",
    "    # Predicting classes\n",
    "    y_pred = kmeans.predict(X_test)\n",
    "\n",
    "    print(y_pred)\n",
    "\n",
    "    predicted_classes += y_pred.tolist()\n",
    "    actual_classes += y_test.tolist()\n",
    "\n",
    "    print(f\"Accuracy for fold ${k+1}\", accuracy_score(y_test, y_pred))\n",
    "    RocCurveDisplay.from_predictions(y_test, y_pred)\n",
    "\n",
    "    conf_mat = confusion_matrix(y_test, y_pred)\n",
    "    cm_display = ConfusionMatrixDisplay(conf_mat, display_labels=[\"Admitted\", \"Not Admitted\"]).plot()\n",
    "    plt.show()"
   ]
  },
  {
   "cell_type": "code",
   "execution_count": null,
   "metadata": {
    "execution": {
     "iopub.status.busy": "2022-05-06T03:09:36.877179Z",
     "iopub.status.idle": "2022-05-06T03:09:36.877510Z",
     "shell.execute_reply": "2022-05-06T03:09:36.877359Z",
     "shell.execute_reply.started": "2022-05-06T03:09:36.877336Z"
    }
   },
   "outputs": [],
   "source": [
    "print(\"Accuracy :\", accuracy_score(actual_classes, predicted_classes))\n",
    "\n",
    "tn, fp, fn, tp = conf_mat.ravel()\n",
    "print(\"Specificity :\", (tn / (tn+fp)))\n",
    "print(\"Sensitivity :\", (tp / (tp+fn)))\n",
    "\n",
    "fpr, tpr, _ = roc_curve(actual_classes, predicted_classes)\n",
    "print(\"Area under curve: \", auc(fpr, tpr))\n",
    "print(classification_report(actual_classes, predicted_classes, target_names = ['Admitted', 'Not Admitted']))\n",
    "roc_display = RocCurveDisplay(fpr=fpr, tpr=tpr).plot()\n",
    "plt.show()"
   ]
  },
  {
   "cell_type": "code",
   "execution_count": null,
   "metadata": {
    "execution": {
     "iopub.status.busy": "2022-05-06T03:09:36.879235Z",
     "iopub.status.idle": "2022-05-06T03:09:36.879878Z",
     "shell.execute_reply": "2022-05-06T03:09:36.879679Z",
     "shell.execute_reply.started": "2022-05-06T03:09:36.879580Z"
    }
   },
   "outputs": [],
   "source": [
    "from fcmeans import FCM\n",
    "\n",
    "# Stritified KFold implementation\n",
    "skf = StratifiedKFold(n_splits=5)\n",
    "\n",
    "tprs = []\n",
    "aucs = []\n",
    "mean_fpr = np.linspace(0, 1, 100)\n",
    "\n",
    "fig, ax = plt.subplots()\n",
    "\n",
    "accuracies = list()\n",
    "predicted_classes = list()\n",
    "actual_classes = list()\n",
    "\n",
    "for k, (train_index, test_index) in enumerate(skf.split(df, y)):\n",
    "    X_train, X_test = df[train_index], df[test_index]\n",
    "    y_train, y_test = y[train_index], y[test_index]\n",
    "\n",
    "    # Training Fuzzy C means\n",
    "    fcm = FCM(n_clusters=2)\n",
    "    fcm.fit(X_train)\n",
    "\n",
    "    # Predicting classes\n",
    "    y_pred = fcm.predict(X_test)\n",
    "\n",
    "    predicted_classes += y_pred.tolist()\n",
    "    actual_classes += y_test.tolist()\n",
    "\n",
    "    print(f\"Accuracy for fold ${k+1}\", accuracy_score(y_test, y_pred))\n",
    "    RocCurveDisplay.from_predictions(y_test, y_pred)\n",
    "\n",
    "    conf_mat = confusion_matrix(y_test, y_pred)\n",
    "    cm_display = ConfusionMatrixDisplay(conf_mat, display_labels=[\"Admitted\", \"Not Admitted\"]).plot()\n",
    "    plt.show()"
   ]
  },
  {
   "cell_type": "code",
   "execution_count": null,
   "metadata": {
    "execution": {
     "iopub.status.busy": "2022-05-06T03:09:36.880927Z",
     "iopub.status.idle": "2022-05-06T03:09:36.881586Z",
     "shell.execute_reply": "2022-05-06T03:09:36.881376Z",
     "shell.execute_reply.started": "2022-05-06T03:09:36.881284Z"
    }
   },
   "outputs": [],
   "source": [
    "print(\"Accuracy :\", accuracy_score(actual_classes, predicted_classes))\n",
    "\n",
    "tn, fp, fn, tp = conf_mat.ravel()\n",
    "print(\"Specificity :\", (tn / (tn+fp)))\n",
    "print(\"Sensitivity :\", (tp / (tp+fn)))\n",
    "\n",
    "fpr, tpr, _ = roc_curve(actual_classes, predicted_classes)\n",
    "print(\"Area under curve: \", auc(fpr, tpr))\n",
    "print(classification_report(actual_classes, predicted_classes, target_names = ['Admitted', 'Not Admitted']))\n",
    "roc_display = RocCurveDisplay(fpr=fpr, tpr=tpr).plot()\n",
    "plt.show()"
   ]
  }
 ],
 "metadata": {
  "kernelspec": {
   "display_name": "Python 3 (ipykernel)",
   "language": "python",
   "name": "python3"
  },
  "language_info": {
   "codemirror_mode": {
    "name": "ipython",
    "version": 3
   },
   "file_extension": ".py",
   "mimetype": "text/x-python",
   "name": "python",
   "nbconvert_exporter": "python",
   "pygments_lexer": "ipython3",
   "version": "3.8.8"
  }
 },
 "nbformat": 4,
 "nbformat_minor": 4
}
